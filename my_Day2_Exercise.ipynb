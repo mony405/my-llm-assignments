{
 "cells": [
  {
   "cell_type": "markdown",
   "id": "9e4c4e4c-3406-4ebe-9cd3-98be805b4400",
   "metadata": {},
   "source": [
    "# My first assignment\n",
    "## LLM Assignment: Website Summarization with LLaMA 3.2\n",
    "\n",
    "In this assignment, I built a simple pipeline that:\n",
    "- Scrapes text content from a given website URL  \n",
    "- Uses **LLaMA 3.2** as a Large Language Model (LLM) to generate a concise summary of the page  \n",
    "- Displays the final summarized text  \n",
    "\n",
    "The goal of this task is to practice combining **web scraping** with **LLM-based summarization** in a Jupyter Notebook.\n"
   ]
  },
  {
   "cell_type": "code",
   "execution_count": 1,
   "id": "a0d8d3eb-66d7-4806-8a19-4c186481c1e1",
   "metadata": {},
   "outputs": [],
   "source": [
    "import requests\n",
    "from bs4 import BeautifulSoup as bs\n",
    "import ollama\n",
    "from IPython.display import Markdown, display\n",
    "MODEL = \"llama3.2\""
   ]
  },
  {
   "cell_type": "code",
   "execution_count": 2,
   "id": "95cdbeb3-4646-40c2-964c-dd76e3cb0c0f",
   "metadata": {},
   "outputs": [
    {
     "name": "stdout",
     "output_type": "stream",
     "text": [
      "Nice to meet you! I'm an artificial intelligence language model, which means I'm a computer program designed to understand and generate human-like text. My primary function is to assist users with information and tasks, while also providing entertainment and engaging conversations.\n",
      "\n",
      "I don't have a personal name, but you can think of me as your friendly AI companion. I've been trained on a massive dataset of texts from various sources, including books, articles, and online content. This training allows me to understand and respond to a wide range of questions, topics, and language styles.\n",
      "\n",
      "I'm constantly learning and improving my responses based on user interactions, so please feel free to ask me anything, and I'll do my best to provide helpful and accurate answers! What's on your mind today?\n"
     ]
    }
   ],
   "source": [
    "message = [{\n",
    "    'role':\"user\",\n",
    "    \"content\":\"hi,i want you to introduce yourself\"\n",
    "}]\n",
    "response = ollama.chat(model=MODEL,messages=message)\n",
    "print(response[\"message\"][\"content\"])"
   ]
  },
  {
   "cell_type": "markdown",
   "id": "0847d862-9790-4736-936d-961f26f65736",
   "metadata": {},
   "source": [
    "### Website Scraping Class\n",
    "Create a class to fetch the page title and clean text from a given URL.\n"
   ]
  },
  {
   "cell_type": "code",
   "execution_count": 3,
   "id": "621dbd01-a4ab-495c-a31a-a3ba15550cd7",
   "metadata": {},
   "outputs": [],
   "source": [
    "headers = {\n",
    " \"User-Agent\": \"Mozilla/5.0 (Windows NT 10.0; Win64; x64) AppleWebKit/537.36 (KHTML, like Gecko) Chrome/117.0.0.0 Safari/537.36\"\n",
    "}\n",
    "class Website:\n",
    "    def __init__(self,url):\n",
    "        self.url = url\n",
    "        response = requests.get(url,headers=headers)\n",
    "        soup = bs(response.content,'html.parser')\n",
    "        self.title = soup.title.string if soup.title else \"no title found\"\n",
    "        for irrelevant in soup.body([\"script\",\"style\",\"img\",\"input\"]):\n",
    "            irrelevant.decompose()\n",
    "        self.text = soup.body.get_text(separator=\"\\n\",strip=True)\n"
   ]
  },
  {
   "cell_type": "code",
   "execution_count": 4,
   "id": "4ab4e721-26e8-4592-8e83-ba792b2406bc",
   "metadata": {},
   "outputs": [
    {
     "name": "stdout",
     "output_type": "stream",
     "text": [
      "Home - Edward Donner\n",
      "Home\n",
      "Connect Four\n",
      "Outsmart\n",
      "An arena that pits LLMs against each other in a battle of diplomacy and deviousness\n",
      "About\n",
      "Posts\n",
      "Well, hi there.\n",
      "I’m Ed. I like writing code and experimenting with LLMs, and hopefully you’re here because you do too. I also enjoy DJing (but I’m badly out of practice), amateur electronic music production (\n",
      "very\n",
      "amateur) and losing myself in\n",
      "Hacker News\n",
      ", nodding my head sagely to things I only half understand.\n",
      "I’m the co-founder and CTO of\n",
      "Nebula.io\n",
      ". We’re applying AI to a field where it can make a massive, positive impact: helping people discover their potential and pursue their reason for being. Recruiters use our product today to source, understand, engage and manage talent. I’m previously the founder and CEO of AI startup untapt,\n",
      "acquired in 2021\n",
      ".\n",
      "We work with groundbreaking, proprietary LLMs verticalized for talent, we’ve\n",
      "patented\n",
      "our matching model, and our award-winning platform has happy customers and tons of press coverage.\n",
      "Connect\n",
      "with me for more!\n",
      "September 15, 2025\n",
      "AI in Production: Gen AI and Agentic AI on AWS at scale\n",
      "May 28, 2025\n",
      "Connecting my courses – become an LLM expert and leader\n",
      "May 18, 2025\n",
      "2025 AI Executive Briefing\n",
      "April 21, 2025\n",
      "The Complete Agentic AI Engineering Course\n",
      "Navigation\n",
      "Home\n",
      "Connect Four\n",
      "Outsmart\n",
      "An arena that pits LLMs against each other in a battle of diplomacy and deviousness\n",
      "About\n",
      "Posts\n",
      "Get in touch\n",
      "ed [at] edwarddonner [dot] com\n",
      "www.edwarddonner.com\n",
      "Follow me\n",
      "LinkedIn\n",
      "Twitter\n",
      "Facebook\n",
      "Subscribe to newsletter\n",
      "Type your email…\n",
      "Subscribe\n"
     ]
    }
   ],
   "source": [
    "ed = Website(\"https://edwarddonner.com\")\n",
    "print(ed.title)\n",
    "print(ed.text)"
   ]
  },
  {
   "cell_type": "markdown",
   "id": "6860a0d6-f1bc-4d31-a25a-322ab56ddfbf",
   "metadata": {},
   "source": [
    "### System Prompt\n",
    "Define the instructions that guide the LLM on how to summarize the website.\n"
   ]
  },
  {
   "cell_type": "code",
   "execution_count": 5,
   "id": "2b8ca986-83af-448a-8816-2e30d18259ae",
   "metadata": {},
   "outputs": [],
   "source": [
    "# Define our system prompt - you can experiment with this later, changing the last sentence to 'Respond in markdown in Spanish.\"\n",
    "system_prompt = \"You are an assistant that analyzes the contents of a website \\\n",
    "and provides a short summary, ignoring text that might be navigation related. \\\n",
    "Respond in markdown.\""
   ]
  },
  {
   "cell_type": "markdown",
   "id": "26b4aeff-29be-48f2-8527-d39a87982913",
   "metadata": {},
   "source": [
    "### User Prompt Function\n",
    "Builds the user prompt by combining the website title and text to send to the LLM.\n"
   ]
  },
  {
   "cell_type": "code",
   "execution_count": 6,
   "id": "c595fa65-65e3-4273-ba15-498400bd01d6",
   "metadata": {},
   "outputs": [],
   "source": [
    "def user_prompt_for(website):\n",
    "    user_prompt = f\"You are looking at a website titled {website.title}\"\n",
    "    user_prompt += \"\\nThe contents of this website is as follows; \\\n",
    "please provide a short summary of this website in markdown. \\\n",
    "If it includes news or announcements, then summarize these too.\\n\\n\"\n",
    "    user_prompt += website.text\n",
    "    return user_prompt"
   ]
  },
  {
   "cell_type": "markdown",
   "id": "b1472636-e0c0-432a-975b-a525db75da0d",
   "metadata": {},
   "source": [
    "### Message Builder\n",
    "Combine the system and user prompts into a message list for the LLM.\n"
   ]
  },
  {
   "cell_type": "code",
   "execution_count": 7,
   "id": "8cb761fe-5c84-4032-a747-c9f9bcc295d5",
   "metadata": {},
   "outputs": [],
   "source": [
    "def messages_for(website):\n",
    "    return [\n",
    "        {\"role\": \"system\", \"content\": system_prompt},\n",
    "        {\"role\": \"user\", \"content\": user_prompt_for(website)}\n",
    "    ]"
   ]
  },
  {
   "cell_type": "markdown",
   "id": "9dd18696-d3b4-45ee-81f4-6685a9c32a5c",
   "metadata": {},
   "source": [
    "### Summarization Function\n",
    "Scrape the website and generate a summary using the LLM.\n"
   ]
  },
  {
   "cell_type": "code",
   "execution_count": 8,
   "id": "fe64fc39-c57b-4b61-934c-f3a3782276e8",
   "metadata": {},
   "outputs": [],
   "source": [
    "def summarize(url):\n",
    "    website = Website(url)\n",
    "    response = ollama.chat(model=MODEL,messages=messages_for(website))\n",
    "    return response['message']['content']"
   ]
  },
  {
   "cell_type": "code",
   "execution_count": 9,
   "id": "19db4fb7-0fb6-4afb-9ccf-bd4589313314",
   "metadata": {},
   "outputs": [
    {
     "data": {
      "text/plain": [
       "'**Summary of the Website**\\n==========================\\n\\n### Overview\\n\\nThe website is a personal blog and portfolio of Edward Donner, a co-founder and CTO of Nebula.io. The site showcases his interests in artificial intelligence (AI), machine learning (ML), and related topics.\\n\\n### About the Creator\\n------------------------\\n\\n* Edward Donner is the founder and CEO of AI startup untapt, acquired in 2021.\\n* He is also the co-founder and CTO of Nebula.io.\\n* His interests include writing code, experimenting with LLMs, DJing, amateur electronic music production, and reading Hacker News.\\n\\n### Recent Announcements\\n-------------------------\\n\\n* **September 15, 2025**: AI in Production: Gen AI and Agentic AI on AWS at scale (Event announcement)\\n* **May 28, 2025**: Connecting my courses – become an LLM expert and leader (Course announcement)\\n* **May 18, 2025**: 2025 AI Executive Briefing (Event announcement)\\n* **April 21, 2025**: The Complete Agentic AI Engineering Course (Course announcement)\\n\\n### Links\\n----------\\n\\n* Follow Edward Donner on LinkedIn\\n* Follow Edward Donner on Twitter\\n* Follow Edward Donner on Facebook\\n* Subscribe to his newsletter'"
      ]
     },
     "execution_count": 9,
     "metadata": {},
     "output_type": "execute_result"
    }
   ],
   "source": [
    "summarize(\"https://edwarddonner.com\")"
   ]
  },
  {
   "cell_type": "markdown",
   "id": "37994e03-83ff-4b62-8849-c91cf0147b49",
   "metadata": {},
   "source": [
    "### Display Function\n",
    "Show the website summary in a nicely formatted markdown output.\n"
   ]
  },
  {
   "cell_type": "code",
   "execution_count": 10,
   "id": "9e47cb3d-312a-4e81-9ed5-4cc0df6aaa58",
   "metadata": {},
   "outputs": [],
   "source": [
    "def display_summary(url):\n",
    "    summary = summarize(url)\n",
    "    display(Markdown(summary))"
   ]
  },
  {
   "cell_type": "code",
   "execution_count": 11,
   "id": "7d4b7296-c32f-42c9-907a-824f29e660f4",
   "metadata": {},
   "outputs": [
    {
     "data": {
      "text/markdown": [
       "# Anthropic Website Summary\n",
       "## Overview\n",
       "Anthropic is a public benefit corporation focused on securing the benefits and mitigating the risks of AI. The company aims to build tools with human benefit at their foundation.\n",
       "\n",
       "## Research and Initiatives\n",
       "* **Anthropic Economic Index**: A report analyzing AI's effects on the labor market and broader economy over time.\n",
       "* **Responsible Scaling Policy**: A policy aimed at ensuring responsible AI development practices.\n",
       "* **Anthropic Academy**: A platform for learning to build with Claude, a large language model.\n",
       "\n",
       "## News and Announcements\n",
       "* **Claude Opus 4.1** (Aug 12, 2025): A new update for the Claude Developer Platform.\n",
       "* **Tracing the thoughts of a large language model** (May 22, 2025): An announcement about the company's work on understanding large language models.\n",
       "* **Project Vend** (Aug 05, 2025): An announcement about a new project.\n",
       "* **Introducing Claude 4** (Jun 20, 2025): A new version of the Claude platform.\n",
       "\n",
       "## Products and Pricing\n",
       "* **Claude**: A large language model developed by Anthropic.\n",
       "* **Claude Code**: A developer platform for working with Claude.\n",
       "* **Claude Developer Platform**: A suite of tools for building AI models.\n",
       "* **Pricing**:\n",
       "\t+ Max plan: $1000/month\n",
       "\t+ Team plan: $2000/month\n",
       "\t+ Enterprise plan: custom pricing\n",
       "\n",
       "## Partnerships and Solutions\n",
       "* **Amazon Bedrock**: A partnership with Amazon to integrate Claude into their cloud services.\n",
       "* **Google Cloud's Vertex AI**: Integration of Claude with Google Cloud's AI platform.\n",
       "* **AI agents**: Solutions for building intelligent systems.\n",
       "* **Code modernization**: Tools for modernizing legacy codebases.\n",
       "\n",
       "## Community and Resources\n",
       "* **Developer docs**: Documentation for developers working with Claude.\n",
       "* **Courses**: Training courses on using Claude and Anthropic Academy.\n",
       "* **Customer stories**: Examples of companies using Anthropic's solutions."
      ],
      "text/plain": [
       "<IPython.core.display.Markdown object>"
      ]
     },
     "metadata": {},
     "output_type": "display_data"
    }
   ],
   "source": [
    "display_summary(\"https://anthropic.com\")"
   ]
  }
 ],
 "metadata": {
  "kernelspec": {
   "display_name": "Python 3 (ipykernel)",
   "language": "python",
   "name": "python3"
  },
  "language_info": {
   "codemirror_mode": {
    "name": "ipython",
    "version": 3
   },
   "file_extension": ".py",
   "mimetype": "text/x-python",
   "name": "python",
   "nbconvert_exporter": "python",
   "pygments_lexer": "ipython3",
   "version": "3.11.13"
  }
 },
 "nbformat": 4,
 "nbformat_minor": 5
}
